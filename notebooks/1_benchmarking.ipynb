{
 "cells": [
  {
   "cell_type": "markdown",
   "metadata": {},
   "source": [
    " # Benchmarking"
   ]
  },
  {
   "cell_type": "code",
   "execution_count": 6,
   "metadata": {},
   "outputs": [
    {
     "name": "stdout",
     "output_type": "stream",
     "text": [
      "The autoreload extension is already loaded. To reload it, use:\n",
      "  %reload_ext autoreload\n"
     ]
    }
   ],
   "source": [
    "%load_ext autoreload\n",
    "%autoreload 2"
   ]
  },
  {
   "cell_type": "code",
   "execution_count": 7,
   "metadata": {},
   "outputs": [],
   "source": [
    "from benchmark import benchmark_csv\n",
    "from benchmark.process import runnable, run\n",
    "from os import PathLike, chdir\n",
    "from pathlib import Path\n",
    "from benchmark.api import Api, ApiBefore, ApiAfter\n",
    "from time import sleep\n",
    "\n",
    "if not \"PROJECT_DIR\" in globals():\n",
    "    PROJECT_DIR = Path().resolve().parent\n",
    "    chdir(PROJECT_DIR)\n",
    "\n",
    "\n",
    "def out(name: str) -> PathLike:\n",
    "    return PROJECT_DIR / \"out\" / f\"{name}.csv\""
   ]
  },
  {
   "cell_type": "markdown",
   "metadata": {},
   "source": [
    "## Clean up\n",
    "\n",
    "Making sure nothing is running before the benchmarks."
   ]
  },
  {
   "cell_type": "code",
   "execution_count": 8,
   "metadata": {},
   "outputs": [
    {
     "data": {
      "text/plain": [
       "CompletedProcess(args='make remove-queue', returncode=0)"
      ]
     },
     "execution_count": 8,
     "metadata": {},
     "output_type": "execute_result"
    }
   ],
   "source": [
    "run(\"make remove-before\")\n",
    "run(\"make remove-after\")\n",
    "run(\"make remove-queue\")"
   ]
  },
  {
   "cell_type": "markdown",
   "metadata": {},
   "source": [
    "## Compose Benchmarks"
   ]
  },
  {
   "cell_type": "code",
   "execution_count": 9,
   "metadata": {},
   "outputs": [],
   "source": [
    "states = [\"before\", \"after\", \"queue\"]"
   ]
  },
  {
   "cell_type": "markdown",
   "metadata": {},
   "source": [
    "### Cold Start"
   ]
  },
  {
   "cell_type": "code",
   "execution_count": 10,
   "metadata": {},
   "outputs": [],
   "source": [
    "for state in states:\n",
    "    benchmark_csv(\n",
    "        out(f\"cold-start_{state}\"),\n",
    "        func=runnable(f\"make start-{state}\"),\n",
    "        after=runnable(f\"make remove-{state}\"),\n",
    "    )"
   ]
  },
  {
   "cell_type": "markdown",
   "metadata": {},
   "source": [
    "### Warm Start"
   ]
  },
  {
   "cell_type": "code",
   "execution_count": 11,
   "metadata": {},
   "outputs": [],
   "source": [
    "for state in states:\n",
    "    benchmark_csv(\n",
    "        out(f\"warm-start_{state}\"),\n",
    "        func=runnable(f\"make start-{state}\"),\n",
    "        beforeAll=runnable(f\"make start-{state} && make stop-{state}\"),\n",
    "        after=runnable(f\"make stop-{state}\"),\n",
    "        afterAll=runnable(f\"make remove-{state}\"),\n",
    "    )"
   ]
  },
  {
   "cell_type": "markdown",
   "metadata": {},
   "source": [
    "### Stop"
   ]
  },
  {
   "cell_type": "code",
   "execution_count": 12,
   "metadata": {},
   "outputs": [],
   "source": [
    "for state in states:\n",
    "    benchmark_csv(\n",
    "        out(f\"stop_{state}\"),\n",
    "        before=runnable(f\"make start-{state}\"),\n",
    "        func=runnable(f\"make stop-{state}\"),\n",
    "        afterAll=runnable(f\"make remove-{state}\"),\n",
    "    )"
   ]
  },
  {
   "cell_type": "markdown",
   "metadata": {},
   "source": [
    "### Remove"
   ]
  },
  {
   "cell_type": "code",
   "execution_count": 13,
   "metadata": {},
   "outputs": [],
   "source": [
    "for state in states:\n",
    "    benchmark_csv(\n",
    "        out(f\"remove_{state}\"),\n",
    "        before=runnable(f\"make start-{state}\"),\n",
    "        func=runnable(f\"make remove-{state}\"),\n",
    "    )"
   ]
  },
  {
   "cell_type": "markdown",
   "metadata": {},
   "source": [
    "## API"
   ]
  },
  {
   "cell_type": "code",
   "execution_count": 14,
   "metadata": {},
   "outputs": [
    {
     "ename": "TypeError",
     "evalue": "Api.create_user() missing 1 required positional argument: 'email'",
     "output_type": "error",
     "traceback": [
      "\u001b[0;31m---------------------------------------------------------------------------\u001b[0m",
      "\u001b[0;31mTypeError\u001b[0m                                 Traceback (most recent call last)",
      "Cell \u001b[0;32mIn[14], line 1\u001b[0m\n\u001b[0;32m----> 1\u001b[0m \u001b[43mApi\u001b[49m\u001b[38;5;241;43m.\u001b[39;49m\u001b[43mcreate_user\u001b[49m\u001b[43m(\u001b[49m\u001b[38;5;124;43m'\u001b[39;49m\u001b[38;5;124;43malbert\u001b[39;49m\u001b[38;5;124;43m'\u001b[39;49m\u001b[43m,\u001b[49m\u001b[43m \u001b[49m\u001b[38;5;124;43m'\u001b[39;49m\u001b[38;5;124;43meinstein\u001b[39;49m\u001b[38;5;124;43m'\u001b[39;49m\u001b[43m,\u001b[49m\u001b[43m \u001b[49m\u001b[38;5;124;43m'\u001b[39;49m\u001b[38;5;124;43malbert.einstein@example.com\u001b[39;49m\u001b[38;5;124;43m'\u001b[39;49m\u001b[43m)\u001b[49m\n",
      "\u001b[0;31mTypeError\u001b[0m: Api.create_user() missing 1 required positional argument: 'email'"
     ]
    }
   ],
   "source": [
    "Api.create_user(\"albert\", \"einstein\", \"albert.einstein@example.com\")"
   ]
  },
  {
   "cell_type": "code",
   "execution_count": null,
   "metadata": {},
   "outputs": [],
   "source": [
    "api = ApiBefore(\"albert\", \"einstein\")"
   ]
  },
  {
   "cell_type": "code",
   "execution_count": null,
   "metadata": {},
   "outputs": [],
   "source": [
    "database_id = api.create_database(\"test\")"
   ]
  },
  {
   "cell_type": "code",
   "execution_count": null,
   "metadata": {},
   "outputs": [],
   "source": [
    "table_id = api.create_table(database_id, \"test\")"
   ]
  },
  {
   "cell_type": "code",
   "execution_count": null,
   "metadata": {},
   "outputs": [],
   "source": [
    "api.insert_row(database_id, table_id, {})"
   ]
  },
  {
   "cell_type": "code",
   "execution_count": null,
   "metadata": {},
   "outputs": [],
   "source": [
    "api.update_row(database_id, table_id, {\"id\": 1}, {\"id\": 11})"
   ]
  },
  {
   "cell_type": "code",
   "execution_count": null,
   "metadata": {},
   "outputs": [],
   "source": [
    "api.delete_row(database_id, table_id, {\"id\": 11})"
   ]
  },
  {
   "cell_type": "code",
   "execution_count": null,
   "metadata": {},
   "outputs": [],
   "source": [
    "api.import_csv(database_id, table_id, PROJECT_DIR / \"test.csv\")"
   ]
  },
  {
   "cell_type": "code",
   "execution_count": null,
   "metadata": {},
   "outputs": [
    {
     "name": "stdout",
     "output_type": "stream",
     "text": [
      "{'result': [{'id': 4}, {'id': 5}, {'id': 6}], 'id': 4, 'result_number': 3}\n"
     ]
    }
   ],
   "source": [
    "query_result = api.create_query(database_id, \"SELECT id FROM test\")\n",
    "print(query_result)"
   ]
  },
  {
   "cell_type": "code",
   "execution_count": null,
   "metadata": {},
   "outputs": [
    {
     "name": "stdout",
     "output_type": "stream",
     "text": [
      "{'result': [{'id': 4}, {'id': 5}, {'id': 6}], 'id': 4, 'result_number': 3}\n"
     ]
    }
   ],
   "source": [
    "print(api.execute_query(database_id, query_result[\"id\"]))"
   ]
  },
  {
   "cell_type": "code",
   "execution_count": null,
   "metadata": {},
   "outputs": [],
   "source": [
    "apis: dict[str, Api] = {\"before\": ApiBefore(), \"after\": ApiAfter()}"
   ]
  },
  {
   "cell_type": "markdown",
   "metadata": {},
   "source": [
    "### Create Database"
   ]
  },
  {
   "cell_type": "code",
   "execution_count": null,
   "metadata": {},
   "outputs": [],
   "source": [
    "for state, api in apis.items():\n",
    "\n",
    "    def beforeAll():\n",
    "        run(f\"make start-{state}\")\n",
    "        sleep(1)\n",
    "        api.create_user(\"albert\", \"einstein\", \"albert.einstein@example.com\")\n",
    "        api.login(\"albert\", \"einstein\")\n",
    "\n",
    "    benchmark_csv(\n",
    "        out(f\"create-database_{state}\"),\n",
    "        beforeAll=beforeAll,\n",
    "        func=lambda index: api.create_database(f\"Test {index+1}\"),\n",
    "        afterAll=runnable(f\"make remove-{state}\"),\n",
    "    )"
   ]
  },
  {
   "cell_type": "markdown",
   "metadata": {},
   "source": [
    "### Create Database"
   ]
  },
  {
   "cell_type": "code",
   "execution_count": null,
   "metadata": {},
   "outputs": [],
   "source": [
    "for state, api in apis.items():\n",
    "\n",
    "    def beforeAll():\n",
    "        run(f\"make start-{state}\")\n",
    "        sleep(1)\n",
    "        api.create_user(\"albert\", \"einstein\", \"albert.einstein@example.com\")\n",
    "        api.login(\"albert\", \"einstein\")\n",
    "\n",
    "    benchmark_csv(\n",
    "        out(f\"create-database_{state}\"),\n",
    "        beforeAll=beforeAll,\n",
    "        func=lambda index: api.create_database(f\"Test {index+1}\"),\n",
    "        afterAll=runnable(f\"make remove-{state}\"),\n",
    "    )"
   ]
  }
 ],
 "metadata": {
  "kernelspec": {
   "display_name": "benchmark-OW9XeZDE-py3.11",
   "language": "python",
   "name": "python3"
  },
  "language_info": {
   "codemirror_mode": {
    "name": "ipython",
    "version": 3
   },
   "file_extension": ".py",
   "mimetype": "text/x-python",
   "name": "python",
   "nbconvert_exporter": "python",
   "pygments_lexer": "ipython3",
   "version": "3.11.5"
  }
 },
 "nbformat": 4,
 "nbformat_minor": 2
}
