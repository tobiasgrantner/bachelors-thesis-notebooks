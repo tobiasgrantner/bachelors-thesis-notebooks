{
 "cells": [
  {
   "cell_type": "markdown",
   "metadata": {},
   "source": [
    " # Benchmarking"
   ]
  },
  {
   "cell_type": "code",
   "execution_count": 1,
   "metadata": {},
   "outputs": [],
   "source": [
    "%load_ext autoreload\n",
    "%autoreload 2"
   ]
  },
  {
   "cell_type": "code",
   "execution_count": 2,
   "metadata": {},
   "outputs": [],
   "source": [
    "from benchmark import benchmark_csv\n",
    "from benchmark.process import runnable, run\n",
    "from os import PathLike, chdir\n",
    "from pathlib import Path\n",
    "from benchmark.api import Api, ApiBefore, ApiAfter\n",
    "from time import sleep\n",
    "\n",
    "\n",
    "if not \"PROJECT_DIR\" in globals():\n",
    "    PROJECT_DIR = Path().resolve().parent\n",
    "    chdir(PROJECT_DIR)\n",
    "\n",
    "\n",
    "def out(name: str) -> PathLike:\n",
    "    return PROJECT_DIR / \"out\" / f\"{name}.csv\""
   ]
  },
  {
   "cell_type": "markdown",
   "metadata": {},
   "source": [
    "## Clean up\n",
    "\n",
    "Making sure nothing is running before the benchmarks."
   ]
  },
  {
   "cell_type": "code",
   "execution_count": null,
   "metadata": {},
   "outputs": [],
   "source": [
    "run(\"make remove-before\")\n",
    "run(\"make remove-after\")\n",
    "run(\"make remove-queue\")"
   ]
  },
  {
   "cell_type": "markdown",
   "metadata": {},
   "source": [
    "## Compose Benchmarks"
   ]
  },
  {
   "cell_type": "code",
   "execution_count": 4,
   "metadata": {},
   "outputs": [],
   "source": [
    "states = [\"before\", \"after\", \"queue\"]"
   ]
  },
  {
   "cell_type": "markdown",
   "metadata": {},
   "source": [
    "### Cold Start"
   ]
  },
  {
   "cell_type": "code",
   "execution_count": 10,
   "metadata": {},
   "outputs": [],
   "source": [
    "for state in states:\n",
    "    benchmark_csv(\n",
    "        out(f\"cold-start_{state}\"),\n",
    "        func=runnable(f\"make start-{state}\"),\n",
    "        after=runnable(f\"make remove-{state}\"),\n",
    "    )"
   ]
  },
  {
   "cell_type": "markdown",
   "metadata": {},
   "source": [
    "### Warm Start"
   ]
  },
  {
   "cell_type": "code",
   "execution_count": null,
   "metadata": {},
   "outputs": [],
   "source": [
    "for state in states:\n",
    "    run(f\"make start-{state} && make stop-{state}\")\n",
    "    benchmark_csv(\n",
    "        out(f\"warm-start_{state}\"),\n",
    "        func=runnable(f\"make start-{state}\"),\n",
    "        after=runnable(f\"make stop-{state}\"),\n",
    "    )\n",
    "    run(f\"make remove-{state}\")"
   ]
  },
  {
   "cell_type": "markdown",
   "metadata": {},
   "source": [
    "### Stop"
   ]
  },
  {
   "cell_type": "code",
   "execution_count": 12,
   "metadata": {},
   "outputs": [],
   "source": [
    "for state in states:\n",
    "    benchmark_csv(\n",
    "        out(f\"stop_{state}\"),\n",
    "        before=runnable(f\"make start-{state}\"),\n",
    "        func=runnable(f\"make stop-{state}\"),\n",
    "    )\n",
    "    run(f\"make remove-{state}\")"
   ]
  },
  {
   "cell_type": "markdown",
   "metadata": {},
   "source": [
    "### Remove"
   ]
  },
  {
   "cell_type": "code",
   "execution_count": 13,
   "metadata": {},
   "outputs": [],
   "source": [
    "for state in states:\n",
    "    benchmark_csv(\n",
    "        out(f\"remove_{state}\"),\n",
    "        before=runnable(f\"make start-{state}\"),\n",
    "        func=runnable(f\"make remove-{state}\"),\n",
    "    )"
   ]
  },
  {
   "cell_type": "markdown",
   "metadata": {},
   "source": [
    "## API"
   ]
  },
  {
   "cell_type": "code",
   "execution_count": 7,
   "metadata": {},
   "outputs": [],
   "source": [
    "apis: dict[str, Api] = {\"before\": ApiBefore(), \"after\": ApiAfter()}"
   ]
  },
  {
   "cell_type": "code",
   "execution_count": 21,
   "metadata": {},
   "outputs": [],
   "source": [
    "for state, api in apis.items():\n",
    "    run(f\"make start-{state}\")\n",
    "    sleep(1)\n",
    "    api.create_user(\"albert\", \"einstein\", \"albert.einstein@example.com\")\n",
    "    api.login(\"albert\", \"einstein\")\n",
    "\n",
    "    benchmark_csv(\n",
    "        out(f\"create-database_{state}\"),\n",
    "        func=lambda index: api.create_database(f\"Database {index+1}\"),\n",
    "    )\n",
    "\n",
    "    if state == \"before\":\n",
    "        run(\"make remove-before-userdb\")\n",
    "\n",
    "    database_id = api.create_database(\"Test Database\")\n",
    "\n",
    "    benchmark_csv(\n",
    "        out(f\"create-table_{state}\"),\n",
    "        func=lambda index: api.create_table(database_id, f\"Table {index+1}\"),\n",
    "    )\n",
    "\n",
    "    table_id = api.create_table(database_id, \"Test Table\")\n",
    "\n",
    "    benchmark_csv(\n",
    "        out(f\"insert-row_{state}\"),\n",
    "        func=lambda index: api.insert_row(database_id, table_id, {\"id\": index + 1}),\n",
    "    )\n",
    "\n",
    "    benchmark_csv(\n",
    "        out(f\"update-row_{state}\"),\n",
    "        func=lambda index: api.update_row(\n",
    "            database_id, table_id, {\"id\": index + 1}, {\"id\": index + 11}\n",
    "        ),\n",
    "    )\n",
    "\n",
    "    benchmark_csv(\n",
    "        out(f\"delete-row_{state}\"),\n",
    "        func=lambda index: api.delete_row(database_id, table_id, {\"id\": index + 11}),\n",
    "    )\n",
    "\n",
    "    benchmark_csv(\n",
    "        out(f\"import-csv_{state}\"),\n",
    "        func=lambda _: api.import_csv(database_id, table_id, PROJECT_DIR / \"test.csv\"),\n",
    "    )\n",
    "\n",
    "    benchmark_csv(\n",
    "        out(f\"create-query_{state}\"),\n",
    "        func=lambda index: api.create_query(\n",
    "            database_id, f\"SELECT id FROM test_table WHERE id = {index+101}\"\n",
    "        ),\n",
    "    )\n",
    "\n",
    "    query_result = api.create_query(database_id, \"SELECT id FROM test_table\")\n",
    "\n",
    "    benchmark_csv(\n",
    "        out(f\"execute-query_{state}\"),\n",
    "        func=lambda _: api.execute_query(database_id, query_result[\"id\"]),\n",
    "    )\n",
    "\n",
    "    run(f\"make remove-{state}\")"
   ]
  }
 ],
 "metadata": {
  "kernelspec": {
   "display_name": "benchmark-OW9XeZDE-py3.11",
   "language": "python",
   "name": "python3"
  },
  "language_info": {
   "codemirror_mode": {
    "name": "ipython",
    "version": 3
   },
   "file_extension": ".py",
   "mimetype": "text/x-python",
   "name": "python",
   "nbconvert_exporter": "python",
   "pygments_lexer": "ipython3",
   "version": "3.11.7"
  }
 },
 "nbformat": 4,
 "nbformat_minor": 2
}
