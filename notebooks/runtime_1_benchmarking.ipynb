{
 "cells": [
  {
   "cell_type": "markdown",
   "metadata": {},
   "source": [
    " # Benchmarking"
   ]
  },
  {
   "cell_type": "code",
   "execution_count": 7,
   "metadata": {},
   "outputs": [
    {
     "name": "stdout",
     "output_type": "stream",
     "text": [
      "The autoreload extension is already loaded. To reload it, use:\n",
      "  %reload_ext autoreload\n"
     ]
    }
   ],
   "source": [
    "%load_ext autoreload\n",
    "%autoreload 2"
   ]
  },
  {
   "cell_type": "code",
   "execution_count": null,
   "metadata": {},
   "outputs": [],
   "source": [
    "from benchmark import benchmark_csv\n",
    "from benchmark.environment import start, stop, remove, IMPROVEMENTS, STATES\n",
    "from os import PathLike, chdir\n",
    "from pathlib import Path\n",
    "from benchmark.api import (\n",
    "    ApiBeforeEnvironmentIndependence,\n",
    "    ApiAfterEnvironmentIndependence,\n",
    "    ApiServiceMerge,\n",
    ")\n",
    "from time import sleep\n",
    "from itertools import product\n",
    "from tqdm.auto import tqdm\n",
    "\n",
    "\n",
    "if not \"PROJECT_DIR\" in globals():\n",
    "    PROJECT_DIR = Path().resolve().parent\n",
    "    chdir(PROJECT_DIR)\n",
    "\n",
    "\n",
    "def out(name: str) -> PathLike:\n",
    "    return PROJECT_DIR / \"out\" / \"runtime\" / f\"{name}.csv\""
   ]
  },
  {
   "cell_type": "code",
   "execution_count": 9,
   "metadata": {},
   "outputs": [
    {
     "data": {
      "text/plain": [
       "[('environment-independence', 'before'),\n",
       " ('environment-independence', 'after'),\n",
       " ('service-merge', 'before'),\n",
       " ('service-merge', 'after')]"
      ]
     },
     "execution_count": 9,
     "metadata": {},
     "output_type": "execute_result"
    }
   ],
   "source": [
    "states = list(product(IMPROVEMENTS, STATES))\n",
    "states"
   ]
  },
  {
   "cell_type": "markdown",
   "metadata": {},
   "source": [
    "## Clean up\n",
    "\n",
    "Making sure nothing is running before the benchmarks."
   ]
  },
  {
   "cell_type": "code",
   "execution_count": 10,
   "metadata": {},
   "outputs": [
    {
     "data": {
      "application/vnd.jupyter.widget-view+json": {
       "model_id": "c92fb2c21e02472f8896d36bf47bb067",
       "version_major": 2,
       "version_minor": 0
      },
      "text/plain": [
       "  0%|          | 0/4 [00:00<?, ?it/s]"
      ]
     },
     "metadata": {},
     "output_type": "display_data"
    }
   ],
   "source": [
    "for improvement, state in tqdm(states):\n",
    "    remove(improvement, state)"
   ]
  },
  {
   "cell_type": "markdown",
   "metadata": {},
   "source": [
    "## Compose Benchmarks"
   ]
  },
  {
   "cell_type": "markdown",
   "metadata": {},
   "source": [
    "### Cold Start"
   ]
  },
  {
   "cell_type": "code",
   "execution_count": 11,
   "metadata": {},
   "outputs": [
    {
     "data": {
      "application/vnd.jupyter.widget-view+json": {
       "model_id": "96ff772672e4404297dc1b697462f5ef",
       "version_major": 2,
       "version_minor": 0
      },
      "text/plain": [
       "  0%|          | 0/4 [00:00<?, ?it/s]"
      ]
     },
     "metadata": {},
     "output_type": "display_data"
    }
   ],
   "source": [
    "for improvement, state in tqdm(states):\n",
    "    benchmark_csv(\n",
    "        out(f\"cold-start_{improvement}_{state}\"),\n",
    "        func=lambda *_: start(improvement, state),\n",
    "        after=lambda *_: remove(improvement, state),\n",
    "    )"
   ]
  },
  {
   "cell_type": "markdown",
   "metadata": {},
   "source": [
    "### Warm Start"
   ]
  },
  {
   "cell_type": "code",
   "execution_count": 12,
   "metadata": {},
   "outputs": [
    {
     "data": {
      "application/vnd.jupyter.widget-view+json": {
       "model_id": "2ce7cd8c4d494cbcb6201e5a9c606d43",
       "version_major": 2,
       "version_minor": 0
      },
      "text/plain": [
       "  0%|          | 0/4 [00:00<?, ?it/s]"
      ]
     },
     "metadata": {},
     "output_type": "display_data"
    }
   ],
   "source": [
    "for improvement, state in tqdm(states):\n",
    "    start(improvement, state)\n",
    "    stop(improvement, state)\n",
    "    benchmark_csv(\n",
    "        out(f\"warm-start_{improvement}_{state}\"),\n",
    "        func=lambda *_: start(improvement, state),\n",
    "        after=lambda *_: remove(improvement, state),\n",
    "    )\n",
    "    remove(improvement, state)"
   ]
  },
  {
   "cell_type": "markdown",
   "metadata": {},
   "source": [
    "### Stop"
   ]
  },
  {
   "cell_type": "code",
   "execution_count": 13,
   "metadata": {},
   "outputs": [
    {
     "data": {
      "application/vnd.jupyter.widget-view+json": {
       "model_id": "dc49ec839f20411680e1007836202cc7",
       "version_major": 2,
       "version_minor": 0
      },
      "text/plain": [
       "  0%|          | 0/4 [00:00<?, ?it/s]"
      ]
     },
     "metadata": {},
     "output_type": "display_data"
    }
   ],
   "source": [
    "for improvement, state in tqdm(states):\n",
    "    benchmark_csv(\n",
    "        out(f\"stop_{improvement}_{state}\"),\n",
    "        before=lambda *_: start(improvement, state),\n",
    "        func=lambda *_: stop(improvement, state),\n",
    "    )\n",
    "    remove(improvement, state)"
   ]
  },
  {
   "cell_type": "markdown",
   "metadata": {},
   "source": [
    "### Remove"
   ]
  },
  {
   "cell_type": "code",
   "execution_count": 14,
   "metadata": {},
   "outputs": [
    {
     "data": {
      "application/vnd.jupyter.widget-view+json": {
       "model_id": "76e0ff78255149f1983520d7bd3d404b",
       "version_major": 2,
       "version_minor": 0
      },
      "text/plain": [
       "  0%|          | 0/4 [00:00<?, ?it/s]"
      ]
     },
     "metadata": {},
     "output_type": "display_data"
    }
   ],
   "source": [
    "for improvement, state in tqdm(states):\n",
    "    benchmark_csv(\n",
    "        out(f\"remove_{improvement}_{state}\"),\n",
    "        before=lambda *_: start(improvement, state),\n",
    "        func=lambda *_: remove(improvement, state),\n",
    "    )"
   ]
  },
  {
   "cell_type": "markdown",
   "metadata": {},
   "source": [
    "## API"
   ]
  },
  {
   "cell_type": "code",
   "execution_count": 15,
   "metadata": {},
   "outputs": [
    {
     "data": {
      "application/vnd.jupyter.widget-view+json": {
       "model_id": "dd315001f2a04fea8187884a3b4588c6",
       "version_major": 2,
       "version_minor": 0
      },
      "text/plain": [
       "  0%|          | 0/3 [00:00<?, ?it/s]"
      ]
     },
     "metadata": {},
     "output_type": "display_data"
    }
   ],
   "source": [
    "for improvement, state in tqdm(states[1:]):\n",
    "    start(improvement, state)\n",
    "\n",
    "    sleep(1)\n",
    "\n",
    "    if improvement == \"environment-independence\":\n",
    "        if state == \"before\":\n",
    "            api = ApiBeforeEnvironmentIndependence()\n",
    "        else:\n",
    "            api = ApiAfterEnvironmentIndependence()\n",
    "    else:\n",
    "        api = ApiServiceMerge()\n",
    "\n",
    "    api.create_user(\"albert\", \"einstein\", \"albert.einstein@example.com\")\n",
    "    api.login(\"albert\", \"einstein\")\n",
    "\n",
    "    benchmark_csv(\n",
    "        out(f\"create-database_{improvement}_{state}\"),\n",
    "        func=lambda index: api.create_database(f\"Database {index+1}\"),\n",
    "    )\n",
    "\n",
    "    database_id = api.create_database(\"Test Database\")\n",
    "\n",
    "    benchmark_csv(\n",
    "        out(f\"create-table_{improvement}_{state}\"),\n",
    "        func=lambda index: api.create_table(database_id, f\"Table {index+1}\"),\n",
    "    )\n",
    "\n",
    "    table_id = api.create_table(database_id, \"Test Table\")\n",
    "\n",
    "    benchmark_csv(\n",
    "        out(f\"insert-row_{improvement}_{state}\"),\n",
    "        func=lambda index: api.insert_row(database_id, table_id, {\"id\": index + 1}),\n",
    "    )\n",
    "\n",
    "    benchmark_csv(\n",
    "        out(f\"update-row_{improvement}_{state}\"),\n",
    "        func=lambda index: api.update_row(\n",
    "            database_id, table_id, {\"id\": index + 1}, {\"id\": index + 11}\n",
    "        ),\n",
    "    )\n",
    "\n",
    "    benchmark_csv(\n",
    "        out(f\"delete-row_{improvement}_{state}\"),\n",
    "        func=lambda index: api.delete_row(database_id, table_id, {\"id\": index + 11}),\n",
    "    )\n",
    "\n",
    "    benchmark_csv(\n",
    "        out(f\"import-csv_{improvement}_{state}\"),\n",
    "        func=lambda _: api.import_csv(database_id, table_id, PROJECT_DIR / \"test.csv\"),\n",
    "    )\n",
    "\n",
    "    benchmark_csv(\n",
    "        out(f\"create-query_{improvement}_{state}\"),\n",
    "        func=lambda index: api.create_query(\n",
    "            database_id, f\"SELECT id FROM test_table WHERE id = {index+101}\"\n",
    "        ),\n",
    "    )\n",
    "\n",
    "    query_result = api.create_query(database_id, \"SELECT id FROM test_table\")\n",
    "\n",
    "    benchmark_csv(\n",
    "        out(f\"execute-query_{improvement}_{state}\"),\n",
    "        func=lambda _: api.execute_query(database_id, query_result[\"id\"]),\n",
    "    )\n",
    "\n",
    "    remove(improvement, state)"
   ]
  }
 ],
 "metadata": {
  "kernelspec": {
   "display_name": "benchmark-OW9XeZDE-py3.11",
   "language": "python",
   "name": "python3"
  },
  "language_info": {
   "codemirror_mode": {
    "name": "ipython",
    "version": 3
   },
   "file_extension": ".py",
   "mimetype": "text/x-python",
   "name": "python",
   "nbconvert_exporter": "python",
   "pygments_lexer": "ipython3",
   "version": "3.11.7"
  }
 },
 "nbformat": 4,
 "nbformat_minor": 2
}
