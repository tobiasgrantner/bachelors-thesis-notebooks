{
 "cells": [
  {
   "cell_type": "markdown",
   "metadata": {},
   "source": [
    "# Memory Usage Measurement"
   ]
  },
  {
   "cell_type": "code",
   "execution_count": null,
   "metadata": {},
   "outputs": [],
   "source": [
    "from benchmark.environment import start, remove, IMPROVEMENTS, STATES\n",
    "from benchmark.api import (\n",
    "    ApiBeforeEnvironmentIndependence,\n",
    "    ApiAfterEnvironmentIndependence,\n",
    "    ApiServiceMerge,\n",
    ")\n",
    "from time import sleep\n",
    "from os import chdir\n",
    "from pathlib import Path\n",
    "from itertools import product\n",
    "from tqdm.auto import tqdm, trange\n",
    "import pandas as pd\n",
    "import docker"
   ]
  },
  {
   "cell_type": "code",
   "execution_count": null,
   "metadata": {},
   "outputs": [],
   "source": [
    "if not \"PROJECT_DIR\" in globals():\n",
    "    PROJECT_DIR = Path().resolve().parent\n",
    "    chdir(PROJECT_DIR)\n",
    "\n",
    "if not \"DATA_DIR\" in globals():\n",
    "    DATA_DIR = PROJECT_DIR / \"memory-usage\" / \"data\"\n",
    "    DATA_DIR.mkdir(parents=True, exist_ok=True)"
   ]
  },
  {
   "cell_type": "code",
   "execution_count": null,
   "metadata": {},
   "outputs": [],
   "source": [
    "states = list(product(IMPROVEMENTS, STATES))\n",
    "states"
   ]
  },
  {
   "cell_type": "code",
   "execution_count": null,
   "metadata": {},
   "outputs": [],
   "source": [
    "docker_client = docker.from_env()"
   ]
  },
  {
   "cell_type": "markdown",
   "metadata": {},
   "source": [
    "To measure the memory usage of the deployed Docker containers of DBrepo, we will use the `docker stats` command."
   ]
  },
  {
   "cell_type": "code",
   "execution_count": null,
   "metadata": {},
   "outputs": [],
   "source": [
    "def measure_memory_usage() -> pd.DataFrame:\n",
    "    return pd.DataFrame(\n",
    "        [\n",
    "            {\n",
    "                \"service\": service.name,\n",
    "                \"memory-usage\": service.stats(stream=False)[\"memory_stats\"][\"usage\"],\n",
    "            }\n",
    "            for service in docker_client.containers.list()\n",
    "        ]\n",
    "    )"
   ]
  },
  {
   "cell_type": "markdown",
   "metadata": {},
   "source": [
    "We first make sure that any previous deployment is removed."
   ]
  },
  {
   "cell_type": "code",
   "execution_count": null,
   "metadata": {},
   "outputs": [],
   "source": [
    "for improvement, state in tqdm(states):\n",
    "    remove(improvement, state)"
   ]
  },
  {
   "cell_type": "markdown",
   "metadata": {},
   "source": [
    "After that we deploy each state of DBRepo respectively and measure the memory usage of its Docker container corresponding to its services."
   ]
  },
  {
   "cell_type": "code",
   "execution_count": null,
   "metadata": {},
   "outputs": [],
   "source": [
    "for improvement, state in tqdm(states):\n",
    "    start(improvement, state)\n",
    "\n",
    "    sleep(1)\n",
    "\n",
    "    if improvement == \"environment-independence\":\n",
    "        if state == \"before\":\n",
    "            api = ApiBeforeEnvironmentIndependence()\n",
    "        else:\n",
    "            api = ApiAfterEnvironmentIndependence()\n",
    "    else:\n",
    "        api = ApiServiceMerge()\n",
    "\n",
    "    api.create_user(\"albert\", \"einstein\", \"albert.einstein@example.com\")\n",
    "    api.login(\"albert\", \"einstein\")\n",
    "\n",
    "    memory_usage = measure_memory_usage()\n",
    "    memory_usage[\"databases\"] = 0\n",
    "\n",
    "    database_memory_usage = [memory_usage]\n",
    "\n",
    "    for databases in trange(1, 11, leave=False):\n",
    "        api.create_database(f\"Database {databases}\")\n",
    "\n",
    "        memory_usage = measure_memory_usage()\n",
    "        memory_usage[\"databases\"] = databases\n",
    "        database_memory_usage.append(memory_usage)\n",
    "\n",
    "    database_memory_usage = pd.concat(database_memory_usage)\n",
    "    database_memory_usage.to_csv(DATA_DIR / f\"{improvement}-{state}.csv\", index=False)\n",
    "\n",
    "    remove(improvement, state)"
   ]
  }
 ],
 "metadata": {
  "kernelspec": {
   "display_name": "benchmark-OW9XeZDE-py3.11",
   "language": "python",
   "name": "python3"
  },
  "language_info": {
   "codemirror_mode": {
    "name": "ipython",
    "version": 3
   },
   "file_extension": ".py",
   "mimetype": "text/x-python",
   "name": "python",
   "nbconvert_exporter": "python",
   "pygments_lexer": "ipython3",
   "version": "3.11.7"
  }
 },
 "nbformat": 4,
 "nbformat_minor": 2
}
