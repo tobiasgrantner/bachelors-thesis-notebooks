{
 "cells": [
  {
   "cell_type": "markdown",
   "metadata": {},
   "source": [
    "# Code Duplication Visualization"
   ]
  },
  {
   "cell_type": "code",
   "execution_count": null,
   "metadata": {},
   "outputs": [],
   "source": [
    "from benchmark.environment import IMPROVEMENTS, STATES\n",
    "from os import chdir\n",
    "from pathlib import Path\n",
    "import pandas as pd\n",
    "\n",
    "\n",
    "SONAR_PORT = 9999\n",
    "SONAR_PASSWORD = \"password\"\n",
    "\n",
    "\n",
    "if not \"PROJECT_DIR\" in globals():\n",
    "    PROJECT_DIR = Path().resolve().parent\n",
    "    chdir(PROJECT_DIR)\n",
    "\n",
    "\n",
    "if not \"OUT_DIR\" in globals():\n",
    "    OUT_DIR = PROJECT_DIR / \"code-duplication\" / \"out\""
   ]
  },
  {
   "cell_type": "markdown",
   "metadata": {},
   "source": [
    "We can export the results of the code replication analysis previously stored in CSV files as latex tables, to include them in the bachelor's thesis."
   ]
  },
  {
   "cell_type": "code",
   "execution_count": null,
   "metadata": {},
   "outputs": [
    {
     "name": "stdout",
     "output_type": "stream",
     "text": [
      "\\begin{tabular}{llrrr}\n",
      "\\toprule\n",
      " &  & Lines & Duplicated & Duplicated Density \\\\\n",
      "Improvement & State &  &  &  \\\\\n",
      "\\midrule\n",
      "\\multirow[t]{2}{*}{Environment Independence} & Before & 60417 & 3977 & 5.300000 \\\\\n",
      " & After & 59232 & 4300 & 5.900000 \\\\\n",
      "\\cline{1-5}\n",
      "\\multirow[t]{2}{*}{Service Merge} & Before & 71913 & 6135 & 7.000000 \\\\\n",
      " & After & 57515 & 2245 & 3.200000 \\\\\n",
      "\\cline{1-5}\n",
      "\\bottomrule\n",
      "\\end{tabular}\n",
      "\n"
     ]
    }
   ],
   "source": [
    "df = pd.read_csv(OUT_DIR / \"overall-duplication.csv\")\n",
    "df.columns = df.columns.str.replace(\"-\", \" \").str.title()\n",
    "df[\"Improvement\"] = df[\"Improvement\"].str.replace(\"-\", \" \").str.title()\n",
    "df[\"State\"] = df[\"State\"].str.title()\n",
    "df.set_index([\"Improvement\", \"State\"], inplace=True)\n",
    "print(df.to_latex())"
   ]
  },
  {
   "cell_type": "code",
   "execution_count": null,
   "metadata": {},
   "outputs": [
    {
     "name": "stdout",
     "output_type": "stream",
     "text": [
      "\\begin{tabular}{lrrr}\n",
      "\\toprule\n",
      "Service & Lines & Duplicated & Duplicated Density \\\\\n",
      "\\midrule\n",
      "Analyse Service & 550 & 0 & 0.000000 \\\\\n",
      "Authentication Service & 30 & 0 & 0.000000 \\\\\n",
      "Broker Service & 14 & 0 & 0.000000 \\\\\n",
      "Container Service & 3710 & 269 & 5.600000 \\\\\n",
      "Database Service & 5810 & 504 & 6.600000 \\\\\n",
      "Identifier Service & 4517 & 389 & 6.700000 \\\\\n",
      "Metadata Database & 11212 & 604 & 3.900000 \\\\\n",
      "Metadata Service & 1513 & 178 & 9.600000 \\\\\n",
      "Query Service & 9527 & 872 & 7.200000 \\\\\n",
      "Semantics Service & 3279 & 299 & 7.300000 \\\\\n",
      "Table Service & 4530 & 547 & 9.500000 \\\\\n",
      "UI Service & 12343 & 141 & 1.100000 \\\\\n",
      "User Service & 3382 & 174 & 4.000000 \\\\\n",
      "\\bottomrule\n",
      "\\end{tabular}\n",
      "\n",
      "\\begin{tabular}{lrrr}\n",
      "\\toprule\n",
      "Service & Lines & Duplicated & Duplicated Density \\\\\n",
      "\\midrule\n",
      "Analyse Service & 550 & 0 & 0.000000 \\\\\n",
      "Authentication Service & 30 & 0 & 0.000000 \\\\\n",
      "Broker Service & 14 & 0 & 0.000000 \\\\\n",
      "Container Service & 2964 & 269 & 7.000000 \\\\\n",
      "Database Service & 5728 & 689 & 9.200000 \\\\\n",
      "Identifier Service & 4495 & 387 & 6.700000 \\\\\n",
      "Metadata Database & 11048 & 556 & 3.800000 \\\\\n",
      "Metadata Service & 1514 & 178 & 9.600000 \\\\\n",
      "Query Service & 9458 & 832 & 6.900000 \\\\\n",
      "Semantics Service & 3280 & 299 & 7.300000 \\\\\n",
      "Table Service & 4657 & 801 & 13.500000 \\\\\n",
      "UI Service & 12111 & 115 & 0.900000 \\\\\n",
      "User Service & 3383 & 174 & 4.000000 \\\\\n",
      "\\bottomrule\n",
      "\\end{tabular}\n",
      "\n",
      "\\begin{tabular}{lrrr}\n",
      "\\toprule\n",
      "Service & Lines & Duplicated & Duplicated Density \\\\\n",
      "\\midrule\n",
      "Analyse Service & 556 & 0 & 0.000000 \\\\\n",
      "Authentication Service & 33 & 0 & 0.000000 \\\\\n",
      "Broker Service & 14 & 0 & 0.000000 \\\\\n",
      "Container Service & 3069 & 299 & 7.600000 \\\\\n",
      "Data Service & 2288 & 355 & 12.300000 \\\\\n",
      "Database Service & 5780 & 685 & 9.100000 \\\\\n",
      "Identifier Service & 5596 & 660 & 9.200000 \\\\\n",
      "Metadata Database & 14686 & 425 & 2.300000 \\\\\n",
      "Metadata Service & 1769 & 277 & 12.500000 \\\\\n",
      "Query Service & 9834 & 772 & 6.200000 \\\\\n",
      "Search Sync Agent & 2137 & 336 & 12.400000 \\\\\n",
      "Semantics Service & 3237 & 301 & 7.500000 \\\\\n",
      "Table Service & 5119 & 779 & 12.000000 \\\\\n",
      "UI Service & 14439 & 1034 & 6.800000 \\\\\n",
      "User Service & 3356 & 212 & 5.000000 \\\\\n",
      "\\bottomrule\n",
      "\\end{tabular}\n",
      "\n",
      "\\begin{tabular}{lrrr}\n",
      "\\toprule\n",
      "Service & Lines & Duplicated & Duplicated Density \\\\\n",
      "\\midrule\n",
      "Analyse Service & 556 & 0 & 0.000000 \\\\\n",
      "Authentication Service & 33 & 0 & 0.000000 \\\\\n",
      "Broker Service & 14 & 0 & 0.000000 \\\\\n",
      "Metadata Database & 9 & 0 & 0.000000 \\\\\n",
      "Metadata Service & 41345 & 1140 & 2.200000 \\\\\n",
      "Search Sync Agent & 1119 & 71 & 5.400000 \\\\\n",
      "UI Service & 14439 & 1034 & 6.800000 \\\\\n",
      "\\bottomrule\n",
      "\\end{tabular}\n",
      "\n"
     ]
    }
   ],
   "source": [
    "for improvement in IMPROVEMENTS:\n",
    "    for state in STATES:\n",
    "        df = pd.read_csv(OUT_DIR / f\"service-duplication_{improvement}_{state}.csv\")\n",
    "        df.columns = df.columns.str.replace(\"-\", \" \").str.title()\n",
    "        df = df.drop(columns=[\"Improvement\", \"State\"])\n",
    "        df[\"Service\"] = (\n",
    "            df[\"Service\"]\n",
    "            .str.replace(\"dbrepo-\", \"\")\n",
    "            .str.replace(\"-\", \" \")\n",
    "            .str.replace(\"db\", \"database\")\n",
    "            .str.title()\n",
    "            .replace(\"Ui\", \"UI Service\")\n",
    "        )\n",
    "        print(df.to_latex(index=False))"
   ]
  }
 ],
 "metadata": {
  "kernelspec": {
   "display_name": "benchmark-OW9XeZDE-py3.11",
   "language": "python",
   "name": "python3"
  },
  "language_info": {
   "codemirror_mode": {
    "name": "ipython",
    "version": 3
   },
   "file_extension": ".py",
   "mimetype": "text/x-python",
   "name": "python",
   "nbconvert_exporter": "python",
   "pygments_lexer": "ipython3",
   "version": "3.11.7"
  }
 },
 "nbformat": 4,
 "nbformat_minor": 2
}
