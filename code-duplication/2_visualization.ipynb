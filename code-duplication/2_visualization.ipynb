{
 "cells": [
  {
   "cell_type": "markdown",
   "metadata": {},
   "source": [
    "# Code Duplication Visualization"
   ]
  },
  {
   "cell_type": "code",
   "execution_count": 1,
   "metadata": {},
   "outputs": [],
   "source": [
    "from benchmark.environment import IMPROVEMENTS, STATES\n",
    "from os import chdir\n",
    "from pathlib import Path\n",
    "import pandas as pd"
   ]
  },
  {
   "cell_type": "code",
   "execution_count": 2,
   "metadata": {},
   "outputs": [],
   "source": [
    "SONAR_PORT = 9999\n",
    "SONAR_PASSWORD = \"password\"\n",
    "\n",
    "if not \"PROJECT_DIR\" in globals():\n",
    "    PROJECT_DIR = Path().resolve().parent\n",
    "    chdir(PROJECT_DIR)\n",
    "\n",
    "if not \"DATA_DIR\" in globals():\n",
    "    DATA_DIR = PROJECT_DIR / \"code-duplication\" / \"data\"\n",
    "\n",
    "if not \"TABLES_DIR\" in globals():\n",
    "    TABLES_DIR = PROJECT_DIR / \"code-duplication\" / \"tables\"\n",
    "    TABLES_DIR.mkdir(exist_ok=True, parents=True)"
   ]
  },
  {
   "cell_type": "markdown",
   "metadata": {},
   "source": [
    "We can export the results of the code replication analysis previously stored in CSV files as latex tables, to include them in the bachelor's thesis."
   ]
  },
  {
   "cell_type": "code",
   "execution_count": 3,
   "metadata": {},
   "outputs": [],
   "source": [
    "df = pd.read_csv(DATA_DIR / \"overall-duplication.csv\")\n",
    "df.columns = df.columns.str.replace(\"-\", \" \").str.title()\n",
    "df[\"Improvement\"] = df[\"Improvement\"].str.replace(\"-\", \" \").str.title()\n",
    "df[\"State\"] = df[\"State\"].str.title()\n",
    "df.set_index([\"Improvement\", \"State\"], inplace=True)\n",
    "df.to_latex(TABLES_DIR / \"overall-duplication.tex\")"
   ]
  },
  {
   "cell_type": "code",
   "execution_count": 4,
   "metadata": {},
   "outputs": [],
   "source": [
    "for improvement in IMPROVEMENTS:\n",
    "    for state in STATES:\n",
    "        df = pd.read_csv(DATA_DIR / f\"service-duplication_{improvement}_{state}.csv\")\n",
    "        df.columns = df.columns.str.replace(\"-\", \" \").str.title()\n",
    "        df = df.drop(columns=[\"Improvement\", \"State\"])\n",
    "        df[\"Service\"] = (\n",
    "            df[\"Service\"]\n",
    "            .str.replace(\"dbrepo-\", \"\")\n",
    "            .str.replace(\"-\", \" \")\n",
    "            .str.replace(\"db\", \"database\")\n",
    "            .str.replace(\"authentication\", \"auth\")\n",
    "            .str.title()\n",
    "            .replace(\"Ui\", \"UI Service\")\n",
    "        )\n",
    "        df.to_latex(TABLES_DIR / f\"service-duplication_{improvement}_{state}.tex\")"
   ]
  }
 ],
 "metadata": {
  "kernelspec": {
   "display_name": "benchmark-OW9XeZDE-py3.11",
   "language": "python",
   "name": "python3"
  },
  "language_info": {
   "codemirror_mode": {
    "name": "ipython",
    "version": 3
   },
   "file_extension": ".py",
   "mimetype": "text/x-python",
   "name": "python",
   "nbconvert_exporter": "python",
   "pygments_lexer": "ipython3",
   "version": "3.11.7"
  }
 },
 "nbformat": 4,
 "nbformat_minor": 2
}
